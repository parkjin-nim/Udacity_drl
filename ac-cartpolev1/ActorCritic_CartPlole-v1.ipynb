{
 "cells": [
  {
   "cell_type": "markdown",
   "id": "municipal-prompt",
   "metadata": {},
   "source": [
    "# Actor Critic\n",
    "\n",
    "In this notebook, we train AC with OpenAI Gym's CartPole-v1 environment.\n",
    "\n",
    "## 1. Import the Necessary Packages"
   ]
  },
  {
   "cell_type": "code",
   "execution_count": 2,
   "id": "funded-willow",
   "metadata": {},
   "outputs": [],
   "source": [
    "import os\n",
    "import gym\n",
    "import argparse\n",
    "import numpy as np\n",
    "import torch\n",
    "import torch.nn.functional as F\n",
    "import torch.optim as optim\n",
    "from torch.distributions import Categorical\n",
    "\n",
    "from collections import deque\n",
    "import matplotlib.pyplot as plt\n",
    "%matplotlib inline\n",
    "\n",
    "ENV_NAME = \"CartPole-v1\"\n",
    "#LOAD_MODEL \n",
    "SAVE_PATH = './save_model/'\n",
    "RENDER = False\n",
    "GAMMA = 0.99\n",
    "HIDDEN_SIZE = 64\n",
    "ACTOR_LR =1e-4\n",
    "CRITIC_LR =1e-3\n",
    "ENT_COEF = 0.1\n",
    "MAX_ITER_NUM =1000\n",
    "LOG_INTERVAL = 10\n",
    "GOAL_SCORE =475\n",
    "LOGDIR ='./logs'\n",
    "\n",
    "SEED= 100\n",
    "\n",
    "\n",
    "device = torch.device(\"cuda:0\" if torch.cuda.is_available() else \"cpu\")"
   ]
  },
  {
   "cell_type": "code",
   "execution_count": 3,
   "id": "stable-remedy",
   "metadata": {},
   "outputs": [
    {
     "name": "stdout",
     "output_type": "stream",
     "text": [
      "observation space: Box(-3.4028234663852886e+38, 3.4028234663852886e+38, (4,), float32)\n",
      "action space: Discrete(2)\n"
     ]
    }
   ],
   "source": [
    "env = gym.make(ENV_NAME)\n",
    "env.seed(SEED)\n",
    "torch.manual_seed(SEED)\n",
    "\n",
    "state_size = env.observation_space.shape[0]\n",
    "action_size = env.action_space.n\n",
    "print('observation space:', env.observation_space)\n",
    "print('action space:', env.action_space)"
   ]
  },
  {
   "cell_type": "markdown",
   "id": "tribal-given",
   "metadata": {},
   "source": [
    "## 2. Define Model Network"
   ]
  },
  {
   "cell_type": "code",
   "execution_count": 4,
   "id": "specified-announcement",
   "metadata": {},
   "outputs": [],
   "source": [
    "import torch\n",
    "import torch.nn as nn\n",
    "\n",
    "class Actor(nn.Module):\n",
    "    def __init__(self, state_size, action_size, rnd_seed):\n",
    "        super(Actor, self).__init__()\n",
    "        self.fc1 = nn.Linear(state_size, HIDDEN_SIZE)\n",
    "        self.fc2 = nn.Linear(HIDDEN_SIZE, HIDDEN_SIZE)\n",
    "        self.fc3 = nn.Linear(HIDDEN_SIZE, action_size)\n",
    "        \n",
    "    def forward(self, x):\n",
    "        x = torch.tanh(self.fc1(x))\n",
    "        x = torch.tanh(self.fc2(x))\n",
    "        #x = torch.relu(self.fc1(x))\n",
    "        #x = torch.relu(self.fc2(x))\n",
    "        policies = torch.softmax(self.fc3(x), dim=1)\n",
    "        return policies\n",
    "        #return torch.tanh(self.fc3(x))\n",
    "    \n",
    "class Critic(nn.Module):\n",
    "    def __init__(self,state_size, args):\n",
    "        super(Critic, self).__init__()\n",
    "        self.fc1 = nn.Linear(state_size, HIDDEN_SIZE)\n",
    "        self.fc2 = nn.Linear(HIDDEN_SIZE, HIDDEN_SIZE)\n",
    "        self.fc3 = nn.Linear(HIDDEN_SIZE, 1)\n",
    "        \n",
    "    def forward(self, x):\n",
    "        x = torch.tanh(self.fc1(x))\n",
    "        x = torch.tanh(self.fc2(x))\n",
    "        #x = torch.relu(self.fc1(x))\n",
    "        #x = torch.relu(self.fc2(x))\n",
    "        value = self.fc3(x)\n",
    "        return value"
   ]
  },
  {
   "cell_type": "markdown",
   "id": "contemporary-enlargement",
   "metadata": {},
   "source": [
    "## 3. Train agent w/ Actor Critic (Single Step)"
   ]
  },
  {
   "cell_type": "markdown",
   "id": "appointed-vietnam",
   "metadata": {},
   "source": [
    "<img src='AC.png' width=800px>"
   ]
  },
  {
   "cell_type": "code",
   "execution_count": 5,
   "id": "color-filter",
   "metadata": {},
   "outputs": [],
   "source": [
    "# update actor, critic parameter every step\n",
    "\n",
    "def train_model(actor,critic,actor_optimizer, critic_optimizer, transition, policies):\n",
    "    state, action, reward, next_state, mask = transition\n",
    "    \n",
    "    #update critic\n",
    "    criterion = torch.nn.MSELoss()\n",
    "    \n",
    "    value = critic(torch.Tensor(state).to(device)).squeeze(1)\n",
    "    next_value = critic(torch.Tensor(next_state).to(device)).squeeze(1)\n",
    "    target = reward + mask * GAMMA * next_value\n",
    "    \n",
    "    critic_loss = criterion(value, target.detach())\n",
    "    critic_optimizer.zero_grad()\n",
    "    critic_loss.backward()\n",
    "    critic_optimizer.step()\n",
    "    \n",
    "    #update actor\n",
    "    categorical = Categorical(policies)\n",
    "    log_policy = categorical.log_prob(torch.Tensor([action]).to(device))\n",
    "    \n",
    "    entropy = categorical.entropy()\n",
    "    \n",
    "    advantage = target - value\n",
    "    \n",
    "    #actor_loss = -log_policy * advantage.item()\n",
    "    actor_loss = -log_policy * advantage.item() + ENT_COEF*entropy\n",
    "    \n",
    "    actor_optimizer.zero_grad()\n",
    "    actor_loss.backward()\n",
    "    actor_optimizer.step()"
   ]
  },
  {
   "cell_type": "code",
   "execution_count": 6,
   "id": "diagnostic-panama",
   "metadata": {},
   "outputs": [],
   "source": [
    "def get_action(policies):\n",
    "    categorical = Categorical(policies)\n",
    "    action = categorical.sample()\n",
    "    action = action.data.numpy()[0]\n",
    "    return action"
   ]
  },
  {
   "cell_type": "code",
   "execution_count": 11,
   "id": "changed-chess",
   "metadata": {},
   "outputs": [],
   "source": [
    "actor = Actor(state_size, action_size, SEED)\n",
    "critic = Critic(state_size, SEED)\n",
    "\n",
    "def Agent():\n",
    "        \n",
    "    actor_optimizer = optim.Adam(actor.parameters(), lr = ACTOR_LR)\n",
    "    critic_optimizer = optim.Adam(critic.parameters(), lr = CRITIC_LR)\n",
    "    \n",
    "    scores_deque = deque(maxlen=100)\n",
    "    scores = []\n",
    "    \n",
    "    actor.to(device)\n",
    "    critic.to(device)\n",
    "\n",
    "    \n",
    "    for episode in range(MAX_ITER_NUM):\n",
    "        done = False\n",
    "        score = 0\n",
    "        \n",
    "        state = env.reset()\n",
    "        state = np.reshape(state, [1, state_size])\n",
    "        \n",
    "        while not done:\n",
    "            if RENDER:\n",
    "                env.render()\n",
    "                \n",
    "            policies = actor(torch.Tensor(state).to(device))\n",
    "            action = get_action(policies.to(device))\n",
    "            \n",
    "            next_state, reward, done, _ = env.step(action)\n",
    "            \n",
    "            next_state = np.reshape(next_state, [1, state_size])\n",
    "            mask = 0 if done else 1\n",
    "            \n",
    "            transition = [state,action,reward, next_state, mask]\n",
    "            \n",
    "            train_model(actor, critic, actor_optimizer, critic_optimizer, transition, policies)\n",
    "            state = next_state\n",
    "            score += reward\n",
    "\n",
    "        scores_deque.append(score)\n",
    "        \n",
    "        if episode >= 100:\n",
    "            moving_avg_score = np.mean(scores_deque)\n",
    "            scores.append(moving_avg_score)\n",
    "\n",
    "            if episode % LOG_INTERVAL == 0:\n",
    "                print('\\rEpisode {}\\tAverage Score: {:.2f}\\tScore: {:.2f}'.format(episode, moving_avg_score, score))\n",
    "            \n",
    "                if moving_avg_score > GOAL_SCORE:\n",
    "                    print('\\rEpisode {}\\tAverage Score: {:.2f}\\tScore: {:.2f}'.format(episode, moving_avg_score, score))\n",
    "                    if not os.path.isdir(SAVE_PATH):\n",
    "                        os.mkdir(SAVE_PATH)\n",
    "                    torch.save(actor.state_dict(),SAVE_PATH+'checkpoint_actor.pth')\n",
    "                    torch.save(critic.state_dict(),SAVE_PATH+'checkpoint_critic.pth')\n",
    "\n",
    "                    return scores\n",
    "            \n",
    "    return scores"
   ]
  },
  {
   "cell_type": "code",
   "execution_count": 12,
   "id": "quiet-pleasure",
   "metadata": {},
   "outputs": [
    {
     "name": "stdout",
     "output_type": "stream",
     "text": [
      "Episode 100\tAverage Score: 62.37\tScore: 165.00\n",
      "Episode 110\tAverage Score: 88.10\tScore: 248.00\n",
      "Episode 120\tAverage Score: 100.11\tScore: 42.00\n",
      "Episode 130\tAverage Score: 108.38\tScore: 144.00\n",
      "Episode 140\tAverage Score: 123.48\tScore: 267.00\n",
      "Episode 150\tAverage Score: 138.07\tScore: 194.00\n",
      "Episode 160\tAverage Score: 154.12\tScore: 209.00\n",
      "Episode 170\tAverage Score: 168.38\tScore: 140.00\n",
      "Episode 180\tAverage Score: 201.43\tScore: 397.00\n",
      "Episode 190\tAverage Score: 236.14\tScore: 500.00\n",
      "Episode 200\tAverage Score: 264.70\tScore: 500.00\n",
      "Episode 210\tAverage Score: 287.19\tScore: 500.00\n",
      "Episode 220\tAverage Score: 321.67\tScore: 366.00\n",
      "Episode 230\tAverage Score: 351.40\tScore: 500.00\n",
      "Episode 240\tAverage Score: 363.44\tScore: 168.00\n",
      "Episode 250\tAverage Score: 379.23\tScore: 500.00\n",
      "Episode 260\tAverage Score: 406.14\tScore: 500.00\n",
      "Episode 270\tAverage Score: 436.56\tScore: 500.00\n",
      "Episode 280\tAverage Score: 446.23\tScore: 500.00\n",
      "Episode 290\tAverage Score: 446.60\tScore: 500.00\n",
      "Episode 300\tAverage Score: 448.76\tScore: 340.00\n",
      "Episode 310\tAverage Score: 447.96\tScore: 500.00\n",
      "Episode 320\tAverage Score: 449.87\tScore: 500.00\n",
      "Episode 330\tAverage Score: 459.66\tScore: 500.00\n",
      "Episode 340\tAverage Score: 479.00\tScore: 500.00\n",
      "Episode 340\tAverage Score: 479.00\tScore: 500.00\n"
     ]
    },
    {
     "data": {
      "image/png": "[encoded data removed]",
      "text/plain": [
       "<Figure size 432x288 with 1 Axes>"
      ]
     },
     "metadata": {
      "needs_background": "light"
     },
     "output_type": "display_data"
    }
   ],
   "source": [
    "scores = Agent()\n",
    "\n",
    "fig = plt.figure()\n",
    "ax = fig.add_subplot(111)\n",
    "ax.axhline(y=GOAL_SCORE, xmin=0.0, xmax=1.0, color='r', linestyle='--', linewidth=0.7, alpha=0.9)\n",
    "plt.plot(np.arange(1, len(scores)+1), scores)\n",
    "plt.ylabel('Score')\n",
    "plt.xlabel('Episode #')\n",
    "plt.show()"
   ]
  },
  {
   "cell_type": "markdown",
   "id": "southeast-truth",
   "metadata": {},
   "source": [
    "## 4. Watch a smart agent"
   ]
  },
  {
   "cell_type": "code",
   "execution_count": 13,
   "id": "ordinary-small",
   "metadata": {},
   "outputs": [],
   "source": [
    "actor.load_state_dict(torch.load(SAVE_PATH+'checkpoint_actor.pth'))\n",
    "critic.load_state_dict(torch.load(SAVE_PATH+'checkpoint_critic.pth'))\n",
    "\n",
    "state = env.reset()\n",
    "for t in range(1000):\n",
    "    policies = actor(torch.Tensor(state).unsqueeze(0)).to(device)\n",
    "    action = get_action(policies.cpu())\n",
    "    #action = get_action(torch.Tensor(state).unsqueeze(1))\n",
    "    env.render()\n",
    "    state, reward, done, _ = env.step(action)\n",
    "    if done:\n",
    "        break \n",
    "\n",
    "print(t)\n",
    "env.close()    "
   ]
  },
  {
   "cell_type": "code",
   "execution_count": 14,
   "id": "restricted-gnome",
   "metadata": {},
   "outputs": [],
   "source": [
    "env.close()"
   ]
  },
  {
   "cell_type": "code",
   "execution_count": null,
   "id": "emerging-genome",
   "metadata": {},
   "outputs": [],
   "source": []
  }
 ],
 "metadata": {
  "kernelspec": {
   "display_name": "drlnd",
   "language": "python",
   "name": "drlnd"
  },
  "language_info": {
   "codemirror_mode": {
    "name": "ipython",
    "version": 3
   },
   "file_extension": ".py",
   "mimetype": "text/x-python",
   "name": "python",
   "nbconvert_exporter": "python",
   "pygments_lexer": "ipython3",
   "version": "3.6.12"
  }
 },
 "nbformat": 4,
 "nbformat_minor": 5
}
