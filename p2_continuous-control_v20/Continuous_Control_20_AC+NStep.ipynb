{
 "cells": [
  {
   "cell_type": "markdown",
   "metadata": {},
   "source": [
    "# Continuous Control\n",
    "\n",
    "---\n",
    "\n",
    "In this notebook, you will learn how to use the Unity ML-Agents environment for the second project of the [Deep Reinforcement Learning Nanodegree](https://www.udacity.com/course/deep-reinforcement-learning-nanodegree--nd893) program.\n",
    "\n",
    "### 1. Start the Environment\n",
    "\n",
    "We begin by importing the necessary packages.  If the code cell below returns an error, please revisit the project instructions to double-check that you have installed [Unity ML-Agents](https://github.com/Unity-Technologies/ml-agents/blob/master/docs/Installation.md) and [NumPy](http://www.numpy.org/)."
   ]
  },
  {
   "cell_type": "code",
   "execution_count": null,
   "metadata": {},
   "outputs": [],
   "source": [
    "from unityagents import UnityEnvironment\n",
    "import numpy as np"
   ]
  },
  {
   "cell_type": "markdown",
   "metadata": {},
   "source": [
    "Next, we will start the environment!  **_Before running the code cell below_**, change the `file_name` parameter to match the location of the Unity environment that you downloaded.\n",
    "\n",
    "- **Mac**: `\"path/to/Reacher.app\"`\n",
    "- **Windows** (x86): `\"path/to/Reacher_Windows_x86/Reacher.exe\"`\n",
    "- **Windows** (x86_64): `\"path/to/Reacher_Windows_x86_64/Reacher.exe\"`\n",
    "- **Linux** (x86): `\"path/to/Reacher_Linux/Reacher.x86\"`\n",
    "- **Linux** (x86_64): `\"path/to/Reacher_Linux/Reacher.x86_64\"`\n",
    "- **Linux** (x86, headless): `\"path/to/Reacher_Linux_NoVis/Reacher.x86\"`\n",
    "- **Linux** (x86_64, headless): `\"path/to/Reacher_Linux_NoVis/Reacher.x86_64\"`\n",
    "\n",
    "For instance, if you are using a Mac, then you downloaded `Reacher.app`.  If this file is in the same folder as the notebook, then the line below should appear as follows:\n",
    "```\n",
    "env = UnityEnvironment(file_name=\"Reacher.app\")\n",
    "```"
   ]
  },
  {
   "cell_type": "code",
   "execution_count": null,
   "metadata": {},
   "outputs": [],
   "source": [
    "env = UnityEnvironment(file_name='../../Reacher.app')"
   ]
  },
  {
   "cell_type": "markdown",
   "metadata": {},
   "source": [
    "Environments contain **_brains_** which are responsible for deciding the actions of their associated agents. Here we check for the first brain available, and set it as the default brain we will be controlling from Python."
   ]
  },
  {
   "cell_type": "code",
   "execution_count": null,
   "metadata": {},
   "outputs": [],
   "source": [
    "# get the default brain\n",
    "brain_name = env.brain_names[0]\n",
    "brain = env.brains[brain_name]"
   ]
  },
  {
   "cell_type": "markdown",
   "metadata": {},
   "source": [
    "### 2. Examine the State and Action Spaces\n",
    "\n",
    "In this environment, a double-jointed arm can move to target locations. A reward of `+0.1` is provided for each step that the agent's hand is in the goal location. Thus, the goal of your agent is to maintain its position at the target location for as many time steps as possible.\n",
    "\n",
    "The observation space consists of `33` variables corresponding to position, rotation, velocity, and angular velocities of the arm.  Each action is a vector with four numbers, corresponding to torque applicable to two joints.  Every entry in the action vector must be a number between `-1` and `1`.\n",
    "\n",
    "Run the code cell below to print some information about the environment."
   ]
  },
  {
   "cell_type": "code",
   "execution_count": null,
   "metadata": {},
   "outputs": [],
   "source": [
    "# reset the environment\n",
    "env_info = env.reset(train_mode=True)[brain_name]\n",
    "\n",
    "# number of agents\n",
    "num_agents = len(env_info.agents)\n",
    "print('Number of agents:', num_agents)\n",
    "\n",
    "# size of each action\n",
    "action_size = brain.vector_action_space_size\n",
    "print('Size of each action:', action_size)\n",
    "\n",
    "# examine the state space \n",
    "states = env_info.vector_observations\n",
    "state_size = states.shape[1]\n",
    "print('There are {} agents. Each observes a state with length: {}'.format(states.shape[0], state_size))\n",
    "print('The state for the first agent looks like:', states[0])"
   ]
  },
  {
   "cell_type": "markdown",
   "metadata": {},
   "source": [
    "### 3. Take Random Actions in the Environment\n",
    "\n",
    "In the next code cell, you will learn how to use the Python API to control the agent and receive feedback from the environment.\n",
    "\n",
    "Once this cell is executed, you will watch the agent's performance, if it selects an action at random with each time step.  A window should pop up that allows you to observe the agent, as it moves through the environment.  \n",
    "\n",
    "Of course, as part of the project, you'll have to change the code so that the agent is able to use its experience to gradually choose better actions when interacting with the environment!"
   ]
  },
  {
   "cell_type": "code",
   "execution_count": null,
   "metadata": {},
   "outputs": [],
   "source": [
    "env_info = env.reset(train_mode=True)[brain_name]     # reset the environment    \n",
    "\n",
    "states = env_info.vector_observations                  # get the current state (for each agent)\n",
    "#print(states, type(states))\n",
    "scores = np.zeros(num_agents)                          # initialize the score (for each agent)\n",
    "#print(scores)\n",
    "cnt = 0\n",
    "#agent = ActorCritic(state_size, action_size).to(device)\n",
    "while True:\n",
    "    actions = np.random.randn(num_agents, action_size) # select an action (for each agent)\n",
    "    actions = np.clip(actions, -1, 1)                  # all actions between -1 and 1\n",
    "    #dist, value = agent(torch.Tensor(states).to(device)) \n",
    "    #actions = dist.sample()\n",
    "    print(actions)\n",
    "    env_info = env.step(actions)[brain_name]           # send all actions to tne environment\n",
    "#    print(env_info)\n",
    "    next_states = env_info.vector_observations         # get next state (for each agent)\n",
    "#    print(next_states)\n",
    "    rewards = env_info.rewards                         # get reward (for each agent)\n",
    "#    print(rewards)\n",
    "    dones = env_info.local_done                        # see if episode finished\n",
    "#    print(dones)\n",
    "    scores += env_info.rewards                         # update the score (for each agent)\n",
    "    print(scores)\n",
    "    states = next_states                               # roll over states to next time step\n",
    "    \n",
    "    cnt+=1\n",
    "    if np.any(dones):                                  # exit loop if episode finished\n",
    "        break\n",
    "    \n",
    "print('Total score (averaged over agents) this episode: {} in time:{}'.format(np.mean(scores), cnt))"
   ]
  },
  {
   "cell_type": "markdown",
   "metadata": {},
   "source": [
    "When finished, you can close the environment."
   ]
  },
  {
   "cell_type": "code",
   "execution_count": null,
   "metadata": {},
   "outputs": [],
   "source": [
    "env.close()"
   ]
  },
  {
   "cell_type": "markdown",
   "metadata": {},
   "source": [
    "### 4. It's Your Turn!\n",
    "\n",
    "Now it's your turn to train your own agent to solve the environment!  When training the environment, set `train_mode=True`, so that the line for resetting the environment looks like the following:\n",
    "```python\n",
    "env_info = env.reset(train_mode=True)[brain_name]\n",
    "```"
   ]
  },
  {
   "cell_type": "markdown",
   "metadata": {},
   "source": [
    "### 1.Install packages"
   ]
  },
  {
   "cell_type": "code",
   "execution_count": null,
   "metadata": {},
   "outputs": [],
   "source": [
    "from unityagents import UnityEnvironment\n",
    "import numpy as np"
   ]
  },
  {
   "cell_type": "code",
   "execution_count": null,
   "metadata": {},
   "outputs": [],
   "source": [
    "import warnings\n",
    "\n",
    "warnings.filterwarnings(\"ignore\")\n",
    "#import gym\n",
    "#import pybullet_envs\n",
    "import torch\n",
    "import torch.nn as nn\n",
    "import torch.nn.functional as F\n",
    "import torch.optim as optim\n",
    "from torch.distributions import Normal\n",
    "#import torch.multiprocessing as mp\n",
    "import time\n",
    "import random\n",
    "\n",
    "from collections import deque\n",
    "from statistics import mean, stdev\n",
    "\n",
    "import os\n",
    "os.environ['KMP_DUPLICATE_LIB_OK']='True'\n",
    "\n",
    "use_cuda = torch.cuda.is_available()\n",
    "device   = torch.device(\"cuda\" if use_cuda else \"cpu\")\n",
    "use_cuda"
   ]
  },
  {
   "cell_type": "markdown",
   "metadata": {},
   "source": [
    "### 2.Examine the State and Action Spaces"
   ]
  },
  {
   "cell_type": "code",
   "execution_count": null,
   "metadata": {},
   "outputs": [],
   "source": [
    "env = UnityEnvironment(file_name='../../Reacher.app')\n",
    "\n",
    "brain_name = env.brain_names[0]\n",
    "brain = env.brains[brain_name]"
   ]
  },
  {
   "cell_type": "markdown",
   "metadata": {},
   "source": [
    "### 3. Define Network"
   ]
  },
  {
   "cell_type": "code",
   "execution_count": null,
   "metadata": {},
   "outputs": [],
   "source": [
    "def init_weights(m):\n",
    "    if isinstance(m, nn.Linear):\n",
    "        nn.init.normal_(m.weight, mean=0., std=0.1)\n",
    "        nn.init.constant_(m.bias, 0.1)\n",
    "        \n",
    "class ActorCritic(nn.Module):\n",
    "    actor = None\n",
    "    actor_optimizer = None\n",
    "    critic = None\n",
    "    critic_optimizer = None\n",
    "    \n",
    "    def __init__(self, state_size, action_size, hidden_size=256, seed=100, std=0.0):\n",
    "        super(ActorCritic, self).__init__()\n",
    "        self.seed = torch.manual_seed(seed)\n",
    "        \n",
    "        if Agent.actor is None:\n",
    "            self.critic = nn.Sequential(\n",
    "                nn.Linear(state_size, 256),\n",
    "                nn.LeakyReLU(),\n",
    "                nn.Linear(256, 128),\n",
    "                nn.LeakyReLU(),\n",
    "                nn.Linear(128, 128),\n",
    "                nn.LeakyReLU(),\n",
    "                nn.Linear(128, 64),\n",
    "                nn.LeakyReLU(),\n",
    "                nn.Linear(64, 1)\n",
    "            )\n",
    "            \n",
    "        if Agent.critic is None:\n",
    "            self.actor = nn.Sequential(\n",
    "                nn.Linear(state_size, 256),\n",
    "                nn.ReLU(),\n",
    "                nn.Linear(256, 128),\n",
    "                nn.ReLU(),\n",
    "                nn.Linear(128, action_size),\n",
    "                nn.Tanh()\n",
    "            )\n",
    "        \n",
    "        self.actor = Agent.actor\n",
    "        self.actor_optimizer = Agent.actor_optimizer\n",
    "        self.critic = Agent.critic\n",
    "        self.critic_optimizer = Agent.critic_optimizer\n",
    "\n",
    "        self.log_std = nn.Parameter(torch.ones(1, action_size) * std)\n",
    "\n",
    "        self.apply(init_weights)\n",
    "        \n",
    "    def forward(self, x):\n",
    "        self.value = self.critic(x)\n",
    "        self.mu    = self.actor(x)      \n",
    "        self.std   = self.log_std.exp().expand_as(self.mu)\n",
    "        self.dist  = Normal(self.mu, self.std)\n",
    "        return self.dist, self.value\n",
    "    \n",
    "    def act(self, x):\n",
    "        self.mu    = self.actor(x)      \n",
    "        self.std   = self.log_std.exp().expand_as(self.mu)\n",
    "        self.dist  = Normal(self.mu, self.std)\n",
    "        return dist.sample()\n",
    "        \n",
    "    def learn(self, state_lst, logprob_lst, q_val_lst, entropy, optimizer):\n",
    "        \n",
    "        self.log_probs = torch.cat(logprob_lst)\n",
    "        self.returns   = torch.cat(q_val_lst).detach()\n",
    "        self.values    = torch.cat(state_lst)\n",
    "        \n",
    "        self.advantage = self.returns - self.values\n",
    "              \n",
    "        self.critic_loss = self.advantage.pow(2).mean() \n",
    "        \n",
    "        self.critic_optimizer.zero_grad()\n",
    "        critic_loss.backward()\n",
    "        torch.nn.utils.clip_grad_norm_(self.critic_local.parameters(), 1)\n",
    "        self.critic_optimizer.step()\n",
    "        \n",
    "        self.actor_loss  = -(self.log_probs * self.advantage.detach()).mean()\n",
    "        \n",
    "        self.actor_optimizer.zero_grad()\n",
    "        actor_loss.backward()\n",
    "        self.actor_optimizer.step()\n",
    "        \n",
    "        #self.loss = self.actor_loss + 0.5 * self.critic_loss - 0.001 * entropy\n",
    "        #optimizer.zero_grad()\n",
    "        #self.loss.backward()    \n",
    "        #optimizer.step()\n"
   ]
  },
  {
   "cell_type": "markdown",
   "metadata": {},
   "source": [
    "### 4.Test using random action"
   ]
  },
  {
   "cell_type": "code",
   "execution_count": null,
   "metadata": {},
   "outputs": [],
   "source": [
    "env_info = env.reset(train_mode=True)[brain_name]\n",
    "\n",
    "# number of agents\n",
    "num_agents = len(env_info.agents)\n",
    "print('Number of agents:', num_agents)\n",
    "\n",
    "# size of each action\n",
    "action_size = brain.vector_action_space_size\n",
    "print('Size of each action:', action_size)\n",
    "\n",
    "# examine the state space \n",
    "states = env_info.vector_observations\n",
    "state_size = states.shape[1]\n",
    "print('There are {} agents. Each observes a state with length: {}'.format(states.shape[0], state_size))\n",
    "print('The state for the first agent looks like:', states[0])"
   ]
  },
  {
   "cell_type": "code",
   "execution_count": null,
   "metadata": {},
   "outputs": [],
   "source": [
    "def compute_returns(next_value, rewards, masks, gamma=0.99):\n",
    "    R = next_value\n",
    "    returns = []\n",
    "    for step in reversed(range(len(rewards))):\n",
    "        R = rewards[step] + gamma * R * masks[step]\n",
    "        returns.insert(0, R)\n",
    "    return returns\n",
    "\n",
    "def compute_gae(next_value, rewards, masks, values, gamma=0.99, tau=0.95):\n",
    "    values = values + [next_value]\n",
    "    gae = 0\n",
    "    returns = []\n",
    "    for step in reversed(range(len(rewards))):\n",
    "        delta = rewards[step] + gamma * values[step + 1] * masks[step] - values[step]\n",
    "        gae = delta + gamma * tau * masks[step] * gae\n",
    "        returns.insert(0, gae + values[step])\n",
    "    return returns"
   ]
  },
  {
   "cell_type": "code",
   "execution_count": null,
   "metadata": {},
   "outputs": [],
   "source": [
    "n_step = 20\n",
    "num_episodes = 2000\n",
    "\n",
    "agent = ActorCritic(state_size, action_size).to(device)\n",
    "optimizer = optim.Adam(agent.parameters(), lr=1e-4) \n",
    "    \n",
    "##########################이 부분은 수정하지 마세요###########################\n",
    "episode_rewards = deque(maxlen=100)\n",
    "start_time = time.time()\n",
    "epi_plot = []\n",
    "finish = False\n",
    "##########################이 부분은 수정하지 마세요###########################\n",
    "\n",
    "agents =[] \n",
    "\n",
    "for i in range(num_agents):\n",
    "    agents.append(Agent(state_size, action_size, random_seed=0))\n",
    "\n",
    "for episode in range(num_episodes):\n",
    "    \n",
    "    env_info = env.reset(train_mode=True)[brain_name]      # reset the environment    \n",
    "    states = env_info.vector_observations                  # get the current state (for each agent)\n",
    "    scores = np.zeros(num_agents)                          # initialize the score (for each agent)\n",
    "    dones = np.zeros(num_agents, dtype=bool)\n",
    "    \n",
    "    for agent in agents:\n",
    "        agent.reset()\n",
    "    \n",
    "    while not np.any(dones):\n",
    "        \n",
    "        log_probs = []\n",
    "        values    = []\n",
    "        nstep_rewards   = []\n",
    "        masks     = []\n",
    "        entropy = 0\n",
    "        \n",
    "        for step in range(n_step):\n",
    "            actions = [agents[i].act(states[i]) for i in range(num_agents)]\n",
    "            #dist, value = agent(torch.Tensor(states).to(device)) # agent returns dist, value in tensor seq type\n",
    "            #actions = dist.sample()                              # .sample() returns actions in tensor seq type\n",
    "\n",
    "            env_info = env.step(actions.numpy())[brain_name]     # env_info.vector_observations are in numpy type\n",
    "            next_states = env_info.vector_observations           # \n",
    "            rewards = env_info.rewards                           # env_info.rewards, local_done are in list type\n",
    "            dones = np.array(env_info.local_done)                # local_done returns list type, convert to numpy!\n",
    "            scores += env_info.rewards                           # scores defined as numpy, \n",
    "            states = next_states                                 # roll over states to next time step\n",
    "            \n",
    "            log_prob = dist.log_prob(actions)\n",
    "            entropy += dist.entropy().mean()                     # by .mean(), entropy is in tensor const. type\n",
    "            \n",
    "            log_probs.append(log_prob)\n",
    "            values.append(value)\n",
    "            nstep_rewards.append(torch.FloatTensor(rewards).unsqueeze(1).to(device))\n",
    "            masks.append(torch.FloatTensor(1 - dones).unsqueeze(1).to(device))\n",
    "\n",
    "            if np.any(dones):                                  # exit loop if episode finished\n",
    "                break\n",
    "        \n",
    "        _, next_values = agent(torch.FloatTensor(next_states).to(device))\n",
    "        next_values = torch.zeros(num_agents).unsqueeze(1) if np.any(dones) else next_values\n",
    "\n",
    "        #returns = compute_returns(next_values, nstep_rewards, masks)\n",
    "        returns =  compute_gae(next_values, nstep_rewards, masks, values)\n",
    "        \n",
    "        agent.learn(values, log_probs, returns, entropy, optimizer)\n",
    "    \n",
    "    episode_rewards.append(np.mean(scores))\n",
    "\n",
    "    #print('\\rEpisode {}\\tScore {:.2f}\\tAverage Score: {:.2f}'.format(episode, np.mean(scores), np.mean(episode_rewards)), end=\"\")\n",
    "\n",
    "    if episode >= 10:\n",
    "        mean_100_episode_reward = np.mean(episode_rewards)\n",
    "        epi_plot.append(mean_100_episode_reward)\n",
    "        if episode % 10 == 0:\n",
    "            print(\"\\nEpisode: {}, scores: {} scores.avg: {:.1f}\".format(episode, np.mean(scores), mean_100_episode_reward))\n",
    "\n",
    "        if mean_100_episode_reward >= 30:\n",
    "            finish = True\n",
    "            print(\"Solved (1)!!!, Time : {:.2f}\".format(time.time() - start_time))\n",
    "            np.save(\"./single.npy\", np.array(epi_plot))\n",
    "            if not os.path.isdir(SAVE_PATH):\n",
    "                os.mkdir(SAVE_PATH)\n",
    "            torch.save(agent.state_dict(),SAVE_PATH+'checkpoint_actor.pth')\n",
    "            break \n",
    "            \n",
    "env.close()\n",
    "print(\"Fail... Retry\")\n"
   ]
  },
  {
   "cell_type": "code",
   "execution_count": null,
   "metadata": {},
   "outputs": [],
   "source": [
    "env.close()"
   ]
  },
  {
   "cell_type": "code",
   "execution_count": null,
   "metadata": {},
   "outputs": [],
   "source": [
    "scores = Agent()\n",
    "\n",
    "fig = plt.figure()\n",
    "ax = fig.add_subplot(111)\n",
    "ax.axhline(y=30, xmin=0.0, xmax=1.0, color='r', linestyle='--', linewidth=0.7, alpha=0.9)\n",
    "plt.plot(np.arange(1, len(epi_plot)+1), epi_plot)\n",
    "plt.ylabel('Score')\n",
    "plt.xlabel('Episode #')\n",
    "plt.show()"
   ]
  },
  {
   "cell_type": "markdown",
   "metadata": {},
   "source": []
  },
  {
   "cell_type": "code",
   "execution_count": null,
   "metadata": {},
   "outputs": [],
   "source": [
    "agent.load_state_dict(torch.load('checkpoint.pth'))\n",
    "\n",
    "while True:\n",
    "    with torch.no_grad():\n",
    "        dist, value = agent(torch.Tensor(states).to(device)) \n",
    "        actions = dist.sample()\n",
    "                \n",
    "    env_infos = env.step(actions.numpy())[brain_name]           # send all actions to tne environment\n",
    "    next_states = env_info.vector_observations         # get next state (for each agent)\n",
    "    rewards = env_info.rewards                         # get reward (for each agent)\n",
    "    dones = env_info.local_done                        # see if episode finished\n",
    "    scores += env_info.rewards                         # update the score (for each agent)\n",
    "    states = next_states                               # roll over states to next time step\n",
    "    if np.any(dones):                                  # exit loop if episode finished\n",
    "        break\n",
    "\n",
    "#print('Total score (averaged over agents) this episode: {}'.format(np.mean(scores)))"
   ]
  },
  {
   "cell_type": "code",
   "execution_count": null,
   "metadata": {},
   "outputs": [],
   "source": [
    "env.close()"
   ]
  },
  {
   "cell_type": "code",
   "execution_count": null,
   "metadata": {},
   "outputs": [],
   "source": []
  }
 ],
 "metadata": {
  "kernelspec": {
   "display_name": "drlnd",
   "language": "python",
   "name": "drlnd"
  },
  "language_info": {
   "codemirror_mode": {
    "name": "ipython",
    "version": 3
   },
   "file_extension": ".py",
   "mimetype": "text/x-python",
   "name": "python",
   "nbconvert_exporter": "python",
   "pygments_lexer": "ipython3",
   "version": "3.6.12"
  }
 },
 "nbformat": 4,
 "nbformat_minor": 2
}
