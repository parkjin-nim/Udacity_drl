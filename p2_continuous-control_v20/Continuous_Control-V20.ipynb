{
 "cells": [
  {
   "cell_type": "markdown",
   "metadata": {},
   "source": [
    "# Continuous Control\n",
    "\n",
    "---\n",
    "\n",
    "In this notebook, you will learn how to use the Unity ML-Agents environment for the second project of the [Deep Reinforcement Learning Nanodegree](https://www.udacity.com/course/deep-reinforcement-learning-nanodegree--nd893) program.\n",
    "\n",
    "### 1. Start the Environment\n",
    "\n",
    "We begin by importing the necessary packages.  If the code cell below returns an error, please revisit the project instructions to double-check that you have installed [Unity ML-Agents](https://github.com/Unity-Technologies/ml-agents/blob/master/docs/Installation.md) and [NumPy](http://www.numpy.org/)."
   ]
  },
  {
   "cell_type": "code",
   "execution_count": 1,
   "metadata": {},
   "outputs": [],
   "source": [
    "from unityagents import UnityEnvironment\n",
    "import numpy as np"
   ]
  },
  {
   "cell_type": "markdown",
   "metadata": {},
   "source": [
    "Next, we will start the environment!  **_Before running the code cell below_**, change the `file_name` parameter to match the location of the Unity environment that you downloaded.\n",
    "\n",
    "- **Mac**: `\"path/to/Reacher.app\"`\n",
    "- **Windows** (x86): `\"path/to/Reacher_Windows_x86/Reacher.exe\"`\n",
    "- **Windows** (x86_64): `\"path/to/Reacher_Windows_x86_64/Reacher.exe\"`\n",
    "- **Linux** (x86): `\"path/to/Reacher_Linux/Reacher.x86\"`\n",
    "- **Linux** (x86_64): `\"path/to/Reacher_Linux/Reacher.x86_64\"`\n",
    "- **Linux** (x86, headless): `\"path/to/Reacher_Linux_NoVis/Reacher.x86\"`\n",
    "- **Linux** (x86_64, headless): `\"path/to/Reacher_Linux_NoVis/Reacher.x86_64\"`\n",
    "\n",
    "For instance, if you are using a Mac, then you downloaded `Reacher.app`.  If this file is in the same folder as the notebook, then the line below should appear as follows:\n",
    "```\n",
    "env = UnityEnvironment(file_name=\"Reacher.app\")\n",
    "```"
   ]
  },
  {
   "cell_type": "code",
   "execution_count": 2,
   "metadata": {},
   "outputs": [
    {
     "name": "stderr",
     "output_type": "stream",
     "text": [
      "INFO:unityagents:\n",
      "'Academy' started successfully!\n",
      "Unity Academy name: Academy\n",
      "        Number of Brains: 1\n",
      "        Number of External Brains : 1\n",
      "        Lesson number : 0\n",
      "        Reset Parameters :\n",
      "\t\tgoal_speed -> 1.0\n",
      "\t\tgoal_size -> 5.0\n",
      "Unity brain name: ReacherBrain\n",
      "        Number of Visual Observations (per agent): 0\n",
      "        Vector Observation space type: continuous\n",
      "        Vector Observation space size (per agent): 33\n",
      "        Number of stacked Vector Observation: 1\n",
      "        Vector Action space type: continuous\n",
      "        Vector Action space size (per agent): 4\n",
      "        Vector Action descriptions: , , , \n"
     ]
    }
   ],
   "source": [
    "env = UnityEnvironment(file_name='../../Reacher.app')"
   ]
  },
  {
   "cell_type": "markdown",
   "metadata": {},
   "source": [
    "Environments contain **_brains_** which are responsible for deciding the actions of their associated agents. Here we check for the first brain available, and set it as the default brain we will be controlling from Python."
   ]
  },
  {
   "cell_type": "code",
   "execution_count": 3,
   "metadata": {},
   "outputs": [],
   "source": [
    "# get the default brain\n",
    "brain_name = env.brain_names[0]\n",
    "brain = env.brains[brain_name]"
   ]
  },
  {
   "cell_type": "markdown",
   "metadata": {},
   "source": [
    "### 2. Examine the State and Action Spaces\n",
    "\n",
    "In this environment, a double-jointed arm can move to target locations. A reward of `+0.1` is provided for each step that the agent's hand is in the goal location. Thus, the goal of your agent is to maintain its position at the target location for as many time steps as possible.\n",
    "\n",
    "The observation space consists of `33` variables corresponding to position, rotation, velocity, and angular velocities of the arm.  Each action is a vector with four numbers, corresponding to torque applicable to two joints.  Every entry in the action vector must be a number between `-1` and `1`.\n",
    "\n",
    "Run the code cell below to print some information about the environment."
   ]
  },
  {
   "cell_type": "code",
   "execution_count": 4,
   "metadata": {},
   "outputs": [
    {
     "name": "stdout",
     "output_type": "stream",
     "text": [
      "Number of agents: 20\n",
      "Size of each action: 4\n",
      "There are 20 agents. Each observes a state with length: 33\n",
      "The state for the first agent looks like: [ 0.00000000e+00 -4.00000000e+00  0.00000000e+00  1.00000000e+00\n",
      " -0.00000000e+00 -0.00000000e+00 -4.37113883e-08  0.00000000e+00\n",
      "  0.00000000e+00  0.00000000e+00  0.00000000e+00  0.00000000e+00\n",
      "  0.00000000e+00  0.00000000e+00 -1.00000000e+01  0.00000000e+00\n",
      "  1.00000000e+00 -0.00000000e+00 -0.00000000e+00 -4.37113883e-08\n",
      "  0.00000000e+00  0.00000000e+00  0.00000000e+00  0.00000000e+00\n",
      "  0.00000000e+00  0.00000000e+00  5.75471878e+00 -1.00000000e+00\n",
      "  5.55726624e+00  0.00000000e+00  1.00000000e+00  0.00000000e+00\n",
      " -1.68164849e-01]\n"
     ]
    }
   ],
   "source": [
    "# reset the environment\n",
    "env_info = env.reset(train_mode=True)[brain_name]\n",
    "\n",
    "# number of agents\n",
    "num_agents = len(env_info.agents)\n",
    "print('Number of agents:', num_agents)\n",
    "\n",
    "# size of each action\n",
    "action_size = brain.vector_action_space_size\n",
    "print('Size of each action:', action_size)\n",
    "\n",
    "# examine the state space \n",
    "states = env_info.vector_observations\n",
    "state_size = states.shape[1]\n",
    "print('There are {} agents. Each observes a state with length: {}'.format(states.shape[0], state_size))\n",
    "print('The state for the first agent looks like:', states[0])"
   ]
  },
  {
   "cell_type": "markdown",
   "metadata": {},
   "source": [
    "### 3. Take Random Actions in the Environment\n",
    "\n",
    "In the next code cell, you will learn how to use the Python API to control the agent and receive feedback from the environment.\n",
    "\n",
    "Once this cell is executed, you will watch the agent's performance, if it selects an action at random with each time step.  A window should pop up that allows you to observe the agent, as it moves through the environment.  \n",
    "\n",
    "Of course, as part of the project, you'll have to change the code so that the agent is able to use its experience to gradually choose better actions when interacting with the environment!"
   ]
  },
  {
   "cell_type": "markdown",
   "metadata": {},
   "source": [
    "env_info = env.reset(train_mode=True)[brain_name]     # reset the environment    \n",
    "\n",
    "states = env_info.vector_observations                  # get the current state (for each agent)\n",
    "\n",
    "scores = np.zeros(num_agents)                          # initialize the score (for each agent)\n",
    "\n",
    "while True:\n",
    "    \n",
    "    actions = np.random.randn(num_agents, action_size) # select an action (for each agent)\n",
    "    actions = np.clip(actions, -1, 1)                  # all actions between -1 and 1\n",
    "    env_info = env.step(actions)[brain_name]           # send all actions to tne environment\n",
    "\n",
    "    next_states = env_info.vector_observations         # get next state (for each agent)\n",
    "    rewards = env_info.rewards                         # get reward (for each agent)\n",
    "    dones = env_info.local_done                        # see if episode finished\n",
    "    scores += env_info.rewards                         # update the score (for each agent)\n",
    "    states = next_states                               # roll over states to next time step\n",
    "\n",
    "    if np.any(dones):                                  # exit loop if episode finished\n",
    "        break\n",
    "    \n",
    "print('Total score (averaged over agents) this episode: {} in time:{}'.format(np.mean(scores), cnt))"
   ]
  },
  {
   "cell_type": "markdown",
   "metadata": {},
   "source": [
    "When finished, you can close the environment."
   ]
  },
  {
   "cell_type": "markdown",
   "metadata": {},
   "source": [
    "env.close()"
   ]
  },
  {
   "cell_type": "markdown",
   "metadata": {},
   "source": [
    "### 4. It's Your Turn!\n",
    "\n",
    "Now it's your turn to train your own agent to solve the environment!  When training the environment, set `train_mode=True`, so that the line for resetting the environment looks like the following:\n",
    "```python\n",
    "env_info = env.reset(train_mode=True)[brain_name]\n",
    "```"
   ]
  },
  {
   "cell_type": "code",
   "execution_count": 5,
   "metadata": {},
   "outputs": [],
   "source": [
    "from collections import deque\n",
    "import matplotlib.pyplot as plt\n",
    "from ddpg_agent3 import Agent\n",
    "import torch\n",
    "import os\n",
    "os.environ['KMP_DUPLICATE_LIB_OK']='True'\n",
    "\n",
    "use_cuda = torch.cuda.is_available()\n",
    "device   = torch.device(\"cuda\" if use_cuda else \"cpu\")\n",
    "use_cuda\n",
    "%matplotlib inline"
   ]
  },
  {
   "cell_type": "code",
   "execution_count": 6,
   "metadata": {
    "scrolled": false
   },
   "outputs": [],
   "source": [
    "def ddpg(n_episodes=500, max_t=10000):\n",
    "    \"\"\" Deep Deterministic Policy Gradients\n",
    "    Params\n",
    "    ======\n",
    "        n_episodes (int): maximum number of training episodes\n",
    "        max_t (int): maximum number of timesteps per episode\n",
    "    \"\"\"\n",
    "    scores_window = deque(maxlen=100)\n",
    "    scores = np.zeros(num_agents)\n",
    "    scores_episode = []\n",
    "    \n",
    "    agents =[] \n",
    "    \n",
    "    for i in range(num_agents):\n",
    "        agents.append(Agent(state_size, action_size, random_seed=0))\n",
    "    \n",
    "    for i_episode in range(1, n_episodes+1):\n",
    "        env_info = env.reset(train_mode=True)[brain_name]\n",
    "        states = env_info.vector_observations\n",
    "        \n",
    "        for agent in agents:\n",
    "            agent.reset()\n",
    "            \n",
    "        scores = np.zeros(num_agents)\n",
    "            \n",
    "        for t in range(max_t):\n",
    "            actions = np.array([agents[i].act(states[i]) for i in range(num_agents)])\n",
    "            \n",
    "            actions = np.squeeze(actions)\n",
    "            \n",
    "            env_info = env.step(actions)[brain_name]        # send the action to the environment\n",
    "            next_states = env_info.vector_observations     # get the next state\n",
    "            rewards = env_info.rewards                     # get the reward\n",
    "            dones = env_info.local_done        \n",
    "            \n",
    "            for i in range(num_agents):\n",
    "                agents[i].step(t,states[i], actions[i], rewards[i], next_states[i], dones[i]) \n",
    " \n",
    "            states = next_states\n",
    "            scores += rewards\n",
    "            if t % 20:\n",
    "                print('\\rTimestep {}\\tScore: {:.2f}\\tmin: {:.2f}\\tmax: {:.2f}'\n",
    "                      .format(t, np.mean(scores), np.min(scores), np.max(scores)), end=\"\") \n",
    "            if np.any(dones):\n",
    "                break \n",
    "        score = np.mean(scores)\n",
    "        scores_window.append(score)       # save most recent score\n",
    "        scores_episode.append(score)\n",
    "\n",
    "        print('\\rEpisode {}\\tScore: {:.2f}\\tAverage Score: {:.2f}'.format(i_episode, score, np.mean(scores_window)), end=\"\\n\")\n",
    "        if i_episode % 100 == 0:\n",
    "            print('\\rEpisode {}\\tAverage Score: {:.2f}'.format(i_episode, np.mean(scores_window)))\n",
    "        if np.mean(scores_window)>=30.0:\n",
    "            print('\\nEnvironment solved in {:d} episodes!\\tAverage Score: {:.2f}'.format(i_episode-100, np.mean(scores_window)))\n",
    "            torch.save(Agent.actor_local.state_dict(), 'checkpoint_actor.pth')\n",
    "            torch.save(Agent.critic_local.state_dict(), 'checkpoint_critic.pth')\n",
    "            break\n",
    "            \n",
    "    return scores_episode\n",
    "\n"
   ]
  },
  {
   "cell_type": "code",
   "execution_count": 7,
   "metadata": {
    "scrolled": false
   },
   "outputs": [
    {
     "name": "stdout",
     "output_type": "stream",
     "text": [
      "Initialising ReplayBuffer\n",
      "Episode 1\tScore: 0.68\tAverage Score: 0.68.71\n",
      "Episode 2\tScore: 0.86\tAverage Score: 0.77.31\n",
      "Episode 3\tScore: 1.69\tAverage Score: 1.08.89\n",
      "Episode 4\tScore: 3.20\tAverage Score: 1.61.99\n",
      "Episode 5\tScore: 5.23\tAverage Score: 2.33.40\n",
      "Episode 6\tScore: 6.01\tAverage Score: 2.94.08\n",
      "Episode 7\tScore: 6.87\tAverage Score: 3.50.93\n",
      "Episode 8\tScore: 7.85\tAverage Score: 4.051.89\n",
      "Episode 9\tScore: 7.29\tAverage Score: 4.410.09\n",
      "Episode 10\tScore: 7.45\tAverage Score: 4.7147\n",
      "Episode 11\tScore: 8.59\tAverage Score: 5.06.90\n",
      "Episode 12\tScore: 8.33\tAverage Score: 5.34.41\n",
      "Episode 13\tScore: 6.91\tAverage Score: 5.46.36\n",
      "Episode 14\tScore: 8.04\tAverage Score: 5.64.20\n",
      "Episode 15\tScore: 7.89\tAverage Score: 5.79.17\n",
      "Episode 16\tScore: 7.79\tAverage Score: 5.92.05\n",
      "Episode 17\tScore: 9.13\tAverage Score: 6.11.12\n",
      "Episode 18\tScore: 8.21\tAverage Score: 6.22.93\n",
      "Episode 19\tScore: 8.63\tAverage Score: 6.35.03\n",
      "Episode 20\tScore: 8.85\tAverage Score: 6.47.81\n",
      "Episode 21\tScore: 10.42\tAverage Score: 6.66.44\n",
      "Episode 22\tScore: 8.78\tAverage Score: 6.76.45\n",
      "Episode 23\tScore: 10.50\tAverage Score: 6.92.71\n",
      "Episode 24\tScore: 10.01\tAverage Score: 7.05.53\n",
      "Episode 25\tScore: 10.27\tAverage Score: 7.18.21\n",
      "Episode 26\tScore: 11.22\tAverage Score: 7.33.96\n",
      "Episode 27\tScore: 11.83\tAverage Score: 7.50.51\n",
      "Episode 28\tScore: 11.24\tAverage Score: 7.63.89\n",
      "Episode 29\tScore: 11.15\tAverage Score: 7.76.64\n",
      "Episode 30\tScore: 10.84\tAverage Score: 7.86.31\n",
      "Episode 31\tScore: 11.13\tAverage Score: 7.96.88\n",
      "Episode 32\tScore: 12.03\tAverage Score: 8.09.50\n",
      "Episode 33\tScore: 12.42\tAverage Score: 8.22.56\n",
      "Episode 34\tScore: 12.17\tAverage Score: 8.34.05\n",
      "Episode 35\tScore: 11.52\tAverage Score: 8.43.10\n",
      "Episode 36\tScore: 12.30\tAverage Score: 8.54.26\n",
      "Episode 37\tScore: 12.47\tAverage Score: 8.64.26\n",
      "Episode 38\tScore: 12.60\tAverage Score: 8.75.39\n",
      "Episode 39\tScore: 13.28\tAverage Score: 8.86.50\n",
      "Episode 40\tScore: 13.57\tAverage Score: 8.988.37\n",
      "Episode 41\tScore: 13.80\tAverage Score: 9.10.42\n",
      "Episode 42\tScore: 14.77\tAverage Score: 9.239.57\n",
      "Episode 43\tScore: 15.79\tAverage Score: 9.391.26\n",
      "Episode 44\tScore: 15.68\tAverage Score: 9.53.07\n",
      "Episode 45\tScore: 16.32\tAverage Score: 9.68.55\n",
      "Episode 46\tScore: 16.87\tAverage Score: 9.844.14\n",
      "Episode 47\tScore: 15.46\tAverage Score: 9.96.22\n",
      "Episode 48\tScore: 17.40\tAverage Score: 10.11.72\n",
      "Episode 49\tScore: 16.27\tAverage Score: 10.24.61\n",
      "Episode 50\tScore: 18.81\tAverage Score: 10.41.24\n",
      "Episode 51\tScore: 19.59\tAverage Score: 10.59.45\n",
      "Episode 52\tScore: 19.56\tAverage Score: 10.76.79\n",
      "Episode 53\tScore: 19.61\tAverage Score: 10.9390\n",
      "Episode 54\tScore: 19.91\tAverage Score: 11.09.58\n",
      "Episode 55\tScore: 20.95\tAverage Score: 11.27.64\n",
      "Episode 56\tScore: 20.77\tAverage Score: 11.44.10\n",
      "Episode 57\tScore: 20.69\tAverage Score: 11.61.97\n",
      "Episode 58\tScore: 20.47\tAverage Score: 11.76.62\n",
      "Episode 59\tScore: 20.40\tAverage Score: 11.90.66\n",
      "Episode 60\tScore: 23.16\tAverage Score: 12.09.38\n",
      "Episode 61\tScore: 23.33\tAverage Score: 12.28.25\n",
      "Episode 62\tScore: 23.37\tAverage Score: 12.46.44\n",
      "Episode 63\tScore: 21.58\tAverage Score: 12.60.80\n",
      "Episode 64\tScore: 21.21\tAverage Score: 12.7311\n",
      "Episode 65\tScore: 21.80\tAverage Score: 12.87.10\n",
      "Episode 66\tScore: 20.38\tAverage Score: 12.99.57\n",
      "Episode 67\tScore: 25.08\tAverage Score: 13.17.39\n",
      "Episode 68\tScore: 23.45\tAverage Score: 13.32.41\n",
      "Episode 69\tScore: 25.95\tAverage Score: 13.50.34\n",
      "Episode 70\tScore: 26.24\tAverage Score: 13.68.14\n",
      "Episode 71\tScore: 24.67\tAverage Score: 13.84.35\n",
      "Episode 72\tScore: 28.75\tAverage Score: 14.05.17\n",
      "Episode 73\tScore: 28.41\tAverage Score: 14.24.07\n",
      "Episode 74\tScore: 26.92\tAverage Score: 14.41.00\n",
      "Episode 75\tScore: 25.53\tAverage Score: 14.56.80\n",
      "Episode 76\tScore: 28.36\tAverage Score: 14.74.47\n",
      "Episode 77\tScore: 26.23\tAverage Score: 14.89.39\n",
      "Episode 78\tScore: 27.22\tAverage Score: 15.05.51\n",
      "Episode 79\tScore: 27.40\tAverage Score: 15.21.41\n",
      "Episode 80\tScore: 26.11\tAverage Score: 15.34.78\n",
      "Episode 81\tScore: 26.25\tAverage Score: 15.48.36\n",
      "Episode 82\tScore: 25.88\tAverage Score: 15.61.13\n",
      "Episode 83\tScore: 24.61\tAverage Score: 15.71.73\n",
      "Episode 84\tScore: 26.29\tAverage Score: 15.84.87\n",
      "Episode 85\tScore: 27.38\tAverage Score: 15.98.80\n",
      "Episode 86\tScore: 29.41\tAverage Score: 16.13.56\n",
      "Episode 87\tScore: 28.09\tAverage Score: 16.27.55\n",
      "Episode 88\tScore: 27.24\tAverage Score: 16.39.43\n",
      "Episode 89\tScore: 27.82\tAverage Score: 16.52.91\n",
      "Episode 90\tScore: 26.83\tAverage Score: 16.64.25\n",
      "Episode 91\tScore: 24.35\tAverage Score: 16.72.93\n",
      "Episode 92\tScore: 13.48\tAverage Score: 16.6954\n",
      "Episode 93\tScore: 4.73\tAverage Score: 16.5610\n",
      "Episode 94\tScore: 3.31\tAverage Score: 16.4218\n",
      "Episode 95\tScore: 3.14\tAverage Score: 16.2837\n",
      "Episode 96\tScore: 4.93\tAverage Score: 16.1647\n",
      "Episode 97\tScore: 6.29\tAverage Score: 16.0658\n",
      "Episode 98\tScore: 4.92\tAverage Score: 15.947\n",
      "Episode 99\tScore: 4.35\tAverage Score: 15.835\n",
      "Episode 100\tScore: 3.89\tAverage Score: 15.71\n",
      "Episode 100\tAverage Score: 15.71\n",
      "Episode 101\tScore: 6.00\tAverage Score: 15.762\n",
      "Episode 102\tScore: 6.13\tAverage Score: 15.814\n",
      "Episode 103\tScore: 6.70\tAverage Score: 15.868\n",
      "Episode 104\tScore: 7.93\tAverage Score: 15.915\n",
      "Episode 105\tScore: 10.21\tAverage Score: 15.963\n",
      "Episode 106\tScore: 7.38\tAverage Score: 15.976\n",
      "Episode 107\tScore: 7.18\tAverage Score: 15.983\n",
      "Episode 108\tScore: 5.64\tAverage Score: 15.958\n",
      "Episode 109\tScore: 11.68\tAverage Score: 16.002\n",
      "Episode 110\tScore: 10.90\tAverage Score: 16.032\n",
      "Episode 111\tScore: 9.89\tAverage Score: 16.051\n",
      "Episode 112\tScore: 11.31\tAverage Score: 16.082\n",
      "Episode 113\tScore: 16.52\tAverage Score: 16.178\n",
      "Episode 114\tScore: 17.14\tAverage Score: 16.2631\n",
      "Episode 115\tScore: 14.87\tAverage Score: 16.339\n",
      "Episode 116\tScore: 17.22\tAverage Score: 16.4322\n",
      "Episode 117\tScore: 16.36\tAverage Score: 16.502\n",
      "Episode 118\tScore: 17.36\tAverage Score: 16.597\n",
      "Episode 119\tScore: 15.78\tAverage Score: 16.661\n",
      "Episode 120\tScore: 19.37\tAverage Score: 16.7793\n",
      "Episode 121\tScore: 19.15\tAverage Score: 16.8646\n",
      "Episode 122\tScore: 17.41\tAverage Score: 16.949\n",
      "Episode 123\tScore: 17.89\tAverage Score: 17.0268\n",
      "Episode 124\tScore: 18.59\tAverage Score: 17.102\n",
      "Episode 125\tScore: 19.14\tAverage Score: 17.1956\n",
      "Episode 126\tScore: 18.49\tAverage Score: 17.2639\n",
      "Episode 127\tScore: 18.96\tAverage Score: 17.3357\n",
      "Episode 128\tScore: 17.78\tAverage Score: 17.4045\n",
      "Episode 129\tScore: 18.01\tAverage Score: 17.4734\n",
      "Episode 130\tScore: 19.81\tAverage Score: 17.5665\n",
      "Episode 131\tScore: 22.27\tAverage Score: 17.6773\n",
      "Episode 132\tScore: 25.01\tAverage Score: 17.8031\n",
      "Episode 133\tScore: 21.91\tAverage Score: 17.8918\n",
      "Episode 134\tScore: 22.99\tAverage Score: 18.0090\n",
      "Episode 135\tScore: 23.01\tAverage Score: 18.1230\n",
      "Episode 136\tScore: 23.28\tAverage Score: 18.2300\n",
      "Episode 137\tScore: 22.07\tAverage Score: 18.3250\n",
      "Episode 138\tScore: 21.28\tAverage Score: 18.4154\n",
      "Episode 139\tScore: 23.57\tAverage Score: 18.5115\n",
      "Episode 140\tScore: 22.19\tAverage Score: 18.6043\n",
      "Episode 141\tScore: 20.90\tAverage Score: 18.670\n",
      "Episode 142\tScore: 20.89\tAverage Score: 18.7318\n",
      "Episode 143\tScore: 21.19\tAverage Score: 18.786\n",
      "Episode 144\tScore: 22.47\tAverage Score: 18.8541\n",
      "Episode 145\tScore: 20.65\tAverage Score: 18.900\n",
      "Episode 146\tScore: 23.27\tAverage Score: 18.9679\n",
      "Episode 147\tScore: 20.31\tAverage Score: 19.016\n",
      "Episode 148\tScore: 18.83\tAverage Score: 19.0291\n",
      "Episode 149\tScore: 18.97\tAverage Score: 19.055\n",
      "Episode 150\tScore: 16.36\tAverage Score: 19.027\n",
      "Episode 151\tScore: 16.27\tAverage Score: 18.991\n",
      "Episode 152\tScore: 15.88\tAverage Score: 18.953\n",
      "Episode 153\tScore: 21.08\tAverage Score: 18.9728\n",
      "Episode 154\tScore: 17.65\tAverage Score: 18.9585\n",
      "Episode 155\tScore: 17.00\tAverage Score: 18.913\n",
      "Episode 156\tScore: 13.38\tAverage Score: 18.838\n",
      "Episode 157\tScore: 5.28\tAverage Score: 18.685\n",
      "Episode 158\tScore: 4.68\tAverage Score: 18.522\n",
      "Episode 159\tScore: 6.67\tAverage Score: 18.389\n",
      "Episode 160\tScore: 4.02\tAverage Score: 18.19\n",
      "Episode 161\tScore: 6.74\tAverage Score: 18.032\n",
      "Episode 162\tScore: 6.51\tAverage Score: 17.862\n",
      "Episode 163\tScore: 6.45\tAverage Score: 17.711\n",
      "Episode 164\tScore: 5.70\tAverage Score: 17.555\n",
      "Episode 165\tScore: 6.54\tAverage Score: 17.405\n",
      "Episode 166\tScore: 5.36\tAverage Score: 17.254\n",
      "Episode 167\tScore: 7.68\tAverage Score: 17.087\n",
      "Episode 168\tScore: 9.48\tAverage Score: 16.944\n",
      "Episode 169\tScore: 8.77\tAverage Score: 16.760\n",
      "Episode 170\tScore: 8.58\tAverage Score: 16.598\n",
      "Episode 171\tScore: 6.40\tAverage Score: 16.407\n",
      "Episode 172\tScore: 7.30\tAverage Score: 16.199\n"
     ]
    },
    {
     "name": "stdout",
     "output_type": "stream",
     "text": [
      "Episode 173\tScore: 8.29\tAverage Score: 15.997\n",
      "Episode 174\tScore: 8.69\tAverage Score: 15.818\n",
      "Episode 175\tScore: 9.66\tAverage Score: 15.652\n",
      "Episode 176\tScore: 10.36\tAverage Score: 15.475\n",
      "Episode 177\tScore: 12.38\tAverage Score: 15.339\n",
      "Timestep 239\tScore: 2.87\tmin: 1.39\tmax: 5.33"
     ]
    },
    {
     "name": "stderr",
     "output_type": "stream",
     "text": [
      "ERROR:root:Exception calling application: Ran out of input\n",
      "Traceback (most recent call last):\n",
      "  File \"/Users/jinpark/anaconda3/envs/drlnd/lib/python3.6/site-packages/grpc/_server.py\", line 385, in _call_behavior\n",
      "    return behavior(argument, context), True\n",
      "  File \"/Users/jinpark/anaconda3/envs/drlnd/lib/python3.6/site-packages/unityagents/rpc_communicator.py\", line 26, in Exchange\n",
      "    return self.child_conn.recv()\n",
      "  File \"/Users/jinpark/anaconda3/envs/drlnd/lib/python3.6/multiprocessing/connection.py\", line 251, in recv\n",
      "    return _ForkingPickler.loads(buf.getbuffer())\n",
      "EOFError: Ran out of input\n"
     ]
    },
    {
     "ename": "KeyError",
     "evalue": "'ReacherBrain'",
     "output_type": "error",
     "traceback": [
      "\u001b[0;31m---------------------------------------------------------------------------\u001b[0m",
      "\u001b[0;31mKeyError\u001b[0m                                  Traceback (most recent call last)",
      "\u001b[0;32m<ipython-input-7-a85c8c698ef5>\u001b[0m in \u001b[0;36m<module>\u001b[0;34m\u001b[0m\n\u001b[0;32m----> 1\u001b[0;31m \u001b[0mscores\u001b[0m \u001b[0;34m=\u001b[0m \u001b[0mddpg\u001b[0m\u001b[0;34m(\u001b[0m\u001b[0;34m)\u001b[0m\u001b[0;34m\u001b[0m\u001b[0;34m\u001b[0m\u001b[0m\n\u001b[0m\u001b[1;32m      2\u001b[0m \u001b[0;34m\u001b[0m\u001b[0m\n\u001b[1;32m      3\u001b[0m \u001b[0;31m# plot the scores\u001b[0m\u001b[0;34m\u001b[0m\u001b[0;34m\u001b[0m\u001b[0;34m\u001b[0m\u001b[0m\n\u001b[1;32m      4\u001b[0m \u001b[0mfig\u001b[0m \u001b[0;34m=\u001b[0m \u001b[0mplt\u001b[0m\u001b[0;34m.\u001b[0m\u001b[0mfigure\u001b[0m\u001b[0;34m(\u001b[0m\u001b[0;34m)\u001b[0m\u001b[0;34m\u001b[0m\u001b[0;34m\u001b[0m\u001b[0m\n\u001b[1;32m      5\u001b[0m \u001b[0max\u001b[0m \u001b[0;34m=\u001b[0m \u001b[0mfig\u001b[0m\u001b[0;34m.\u001b[0m\u001b[0madd_subplot\u001b[0m\u001b[0;34m(\u001b[0m\u001b[0;36m111\u001b[0m\u001b[0;34m)\u001b[0m\u001b[0;34m\u001b[0m\u001b[0;34m\u001b[0m\u001b[0m\n",
      "\u001b[0;32m<ipython-input-6-c6338c8cb89e>\u001b[0m in \u001b[0;36mddpg\u001b[0;34m(n_episodes, max_t)\u001b[0m\n\u001b[1;32m     29\u001b[0m             \u001b[0mactions\u001b[0m \u001b[0;34m=\u001b[0m \u001b[0mnp\u001b[0m\u001b[0;34m.\u001b[0m\u001b[0msqueeze\u001b[0m\u001b[0;34m(\u001b[0m\u001b[0mactions\u001b[0m\u001b[0;34m)\u001b[0m\u001b[0;34m\u001b[0m\u001b[0;34m\u001b[0m\u001b[0m\n\u001b[1;32m     30\u001b[0m \u001b[0;34m\u001b[0m\u001b[0m\n\u001b[0;32m---> 31\u001b[0;31m             \u001b[0menv_info\u001b[0m \u001b[0;34m=\u001b[0m \u001b[0menv\u001b[0m\u001b[0;34m.\u001b[0m\u001b[0mstep\u001b[0m\u001b[0;34m(\u001b[0m\u001b[0mactions\u001b[0m\u001b[0;34m)\u001b[0m\u001b[0;34m[\u001b[0m\u001b[0mbrain_name\u001b[0m\u001b[0;34m]\u001b[0m        \u001b[0;31m# send the action to the environment\u001b[0m\u001b[0;34m\u001b[0m\u001b[0;34m\u001b[0m\u001b[0m\n\u001b[0m\u001b[1;32m     32\u001b[0m             \u001b[0mnext_states\u001b[0m \u001b[0;34m=\u001b[0m \u001b[0menv_info\u001b[0m\u001b[0;34m.\u001b[0m\u001b[0mvector_observations\u001b[0m     \u001b[0;31m# get the next state\u001b[0m\u001b[0;34m\u001b[0m\u001b[0;34m\u001b[0m\u001b[0m\n\u001b[1;32m     33\u001b[0m             \u001b[0mrewards\u001b[0m \u001b[0;34m=\u001b[0m \u001b[0menv_info\u001b[0m\u001b[0;34m.\u001b[0m\u001b[0mrewards\u001b[0m                     \u001b[0;31m# get the reward\u001b[0m\u001b[0;34m\u001b[0m\u001b[0;34m\u001b[0m\u001b[0m\n",
      "\u001b[0;32m~/anaconda3/envs/drlnd/lib/python3.6/site-packages/unityagents/environment.py\u001b[0m in \u001b[0;36mstep\u001b[0;34m(self, vector_action, memory, text_action)\u001b[0m\n\u001b[1;32m    375\u001b[0m             \u001b[0mself\u001b[0m\u001b[0;34m.\u001b[0m\u001b[0m_global_done\u001b[0m \u001b[0;34m=\u001b[0m \u001b[0ms\u001b[0m\u001b[0;34m[\u001b[0m\u001b[0;36m1\u001b[0m\u001b[0;34m]\u001b[0m\u001b[0;34m\u001b[0m\u001b[0;34m\u001b[0m\u001b[0m\n\u001b[1;32m    376\u001b[0m             \u001b[0;32mfor\u001b[0m \u001b[0m_b\u001b[0m \u001b[0;32min\u001b[0m \u001b[0mself\u001b[0m\u001b[0;34m.\u001b[0m\u001b[0m_external_brain_names\u001b[0m\u001b[0;34m:\u001b[0m\u001b[0;34m\u001b[0m\u001b[0;34m\u001b[0m\u001b[0m\n\u001b[0;32m--> 377\u001b[0;31m                 \u001b[0mself\u001b[0m\u001b[0;34m.\u001b[0m\u001b[0m_n_agents\u001b[0m\u001b[0;34m[\u001b[0m\u001b[0m_b\u001b[0m\u001b[0;34m]\u001b[0m \u001b[0;34m=\u001b[0m \u001b[0mlen\u001b[0m\u001b[0;34m(\u001b[0m\u001b[0ms\u001b[0m\u001b[0;34m[\u001b[0m\u001b[0;36m0\u001b[0m\u001b[0;34m]\u001b[0m\u001b[0;34m[\u001b[0m\u001b[0m_b\u001b[0m\u001b[0;34m]\u001b[0m\u001b[0;34m.\u001b[0m\u001b[0magents\u001b[0m\u001b[0;34m)\u001b[0m\u001b[0;34m\u001b[0m\u001b[0;34m\u001b[0m\u001b[0m\n\u001b[0m\u001b[1;32m    378\u001b[0m             \u001b[0;32mreturn\u001b[0m \u001b[0ms\u001b[0m\u001b[0;34m[\u001b[0m\u001b[0;36m0\u001b[0m\u001b[0;34m]\u001b[0m\u001b[0;34m\u001b[0m\u001b[0;34m\u001b[0m\u001b[0m\n\u001b[1;32m    379\u001b[0m         \u001b[0;32melif\u001b[0m \u001b[0;32mnot\u001b[0m \u001b[0mself\u001b[0m\u001b[0;34m.\u001b[0m\u001b[0m_loaded\u001b[0m\u001b[0;34m:\u001b[0m\u001b[0;34m\u001b[0m\u001b[0;34m\u001b[0m\u001b[0m\n",
      "\u001b[0;31mKeyError\u001b[0m: 'ReacherBrain'"
     ]
    }
   ],
   "source": [
    "scores = ddpg()\n",
    "\n",
    "# plot the scores\n",
    "fig = plt.figure()\n",
    "ax = fig.add_subplot(111)\n",
    "plt.plot(np.arange(len(scores)), scores)\n",
    "plt.ylabel('Score')\n",
    "plt.xlabel('Episode #')\n",
    "plt.show()"
   ]
  },
  {
   "cell_type": "markdown",
   "metadata": {},
   "source": [
    "## Compare with LR_ACTOR = 1e-4, LR_CRITIC = 1e-4 "
   ]
  },
  {
   "cell_type": "code",
   "execution_count": null,
   "metadata": {},
   "outputs": [],
   "source": [
    "with open ('outfile', 'rb') as fp:\n",
    "    scores2 = pickle.load(fp)"
   ]
  },
  {
   "cell_type": "code",
   "execution_count": null,
   "metadata": {},
   "outputs": [],
   "source": [
    "fig = plt.figure()\n",
    "ax = fig.add_subplot(111)\n",
    "ax.plot(np.arange(len(scores)), scores, color='lightblue')\n",
    "ax.plot(np.arange(len(scores2)), scores2, color='darkgreen')\n",
    "plt.ylabel('Score')\n",
    "plt.xlabel('Episode #')\n",
    "plt.show()"
   ]
  }
 ],
 "metadata": {
  "kernelspec": {
   "display_name": "drlnd",
   "language": "python",
   "name": "drlnd"
  },
  "language_info": {
   "codemirror_mode": {
    "name": "ipython",
    "version": 3
   },
   "file_extension": ".py",
   "mimetype": "text/x-python",
   "name": "python",
   "nbconvert_exporter": "python",
   "pygments_lexer": "ipython3",
   "version": "3.6.12"
  }
 },
 "nbformat": 4,
 "nbformat_minor": 2
}
