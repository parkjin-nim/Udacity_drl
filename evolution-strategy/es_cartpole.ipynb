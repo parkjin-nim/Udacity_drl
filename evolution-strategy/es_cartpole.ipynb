{
 "cells": [
  {
   "cell_type": "code",
   "execution_count": null,
   "id": "growing-sandwich",
   "metadata": {},
   "outputs": [],
   "source": [
    "\"\"\"\n",
    "A bare bones examples of optimizing a black-box function (f) using\n",
    "Natural Evolution Strategies (NES), where the parameter distribution is a \n",
    "gaussian of fixed standard deviation.\n",
    "\"\"\"\n",
    "\n",
    "import numpy as np\n",
    "np.random.seed(0)\n",
    "\n",
    "# the function we want to optimize\n",
    "def f(w):\n",
    "    # here we would normally:\n",
    "    # ... 1) create a neural network with weights w\n",
    "    # ... 2) run the neural network on the environment for some time\n",
    "    # ... 3) sum up and return the total reward\n",
    "\n",
    "    # but for the purposes of an example, lets try to minimize\n",
    "    # the L2 distance to a specific solution vector. So the highest reward\n",
    "    # we can achieve is 0, when the vector w is exactly equal to solution\n",
    "    reward = -np.sum(np.square(solution - w))\n",
    "    return reward"
   ]
  },
  {
   "cell_type": "code",
   "execution_count": null,
   "id": "timely-helen",
   "metadata": {},
   "outputs": [],
   "source": [
    "# hyperparameters\n",
    "npop = 50 # population size\n",
    "sigma = 0.1 # noise standard deviation\n",
    "alpha = 0.001 # learning rate"
   ]
  },
  {
   "cell_type": "code",
   "execution_count": null,
   "id": "lonely-making",
   "metadata": {
    "scrolled": false
   },
   "outputs": [],
   "source": [
    "# start the optimization\n",
    "solution = np.array([0.5, 0.1, -0.3])\n",
    "w = np.random.randn(3) # our initial guess is random\n",
    "for i in range(300):\n",
    "\n",
    "    # print current fitness of the most likely parameter setting\n",
    "    if i % 20 == 0:\n",
    "        print('iter %d. w: %s, solution: %s, reward: %f' % \n",
    "              (i, str(w), str(solution), f(w)))\n",
    "\n",
    "    # initialize memory for a population of w's, and their rewards\n",
    "    N = np.random.randn(npop, 3) # samples from a normal distribution N(0,1)\n",
    "    R = np.zeros(npop)\n",
    "    for j in range(npop):\n",
    "        w_try = w + sigma*N[j] # jitter w using gaussian of sigma 0.1\n",
    "        R[j] = f(w_try) # evaluate the jittered version\n",
    "\n",
    "    # standardize the rewards to have a gaussian distribution\n",
    "    A = (R - np.mean(R)) / np.std(R)\n",
    "    # perform the parameter update. The matrix multiply below\n",
    "    # is just an efficient way to sum up all the rows of the noise matrix N,\n",
    "    # where each row N[j] is weighted by A[j]\n",
    "    w = w + alpha/(npop*sigma) * np.dot(N.T, A)\n"
   ]
  },
  {
   "cell_type": "markdown",
   "id": "south-species",
   "metadata": {},
   "source": [
    "### 1. Import the Necessary Packages"
   ]
  },
  {
   "cell_type": "code",
   "execution_count": 1,
   "id": "serial-minute",
   "metadata": {},
   "outputs": [],
   "source": [
    "import gym\n",
    "import math\n",
    "import numpy as np\n",
    "from collections import deque\n",
    "import matplotlib.pyplot as plt\n",
    "%matplotlib inline\n",
    "\n",
    "import torch\n",
    "import torch.nn as nn\n",
    "import torch.nn.functional as F\n",
    "from torch.autograd import Variable\n"
   ]
  },
  {
   "cell_type": "markdown",
   "id": "continuing-norfolk",
   "metadata": {},
   "source": [
    "### 2. Instantiate the Environment and Agent"
   ]
  },
  {
   "cell_type": "code",
   "execution_count": 2,
   "id": "fourth-williams",
   "metadata": {},
   "outputs": [
    {
     "name": "stdout",
     "output_type": "stream",
     "text": [
      "observation space: Box(-1.2000000476837158, 0.6000000238418579, (2,), float32)\n",
      "action space: Box(-1.0, 1.0, (1,), float32)\n",
      "  - low: [-1.]\n",
      "  - high: [1.]\n",
      "weight dim.: 65\n"
     ]
    }
   ],
   "source": [
    "device = torch.device(\"cuda:0\" if torch.cuda.is_available() else \"cpu\")\n",
    "\n",
    "env = gym.make('MountainCarContinuous-v0')\n",
    "env.seed(101)\n",
    "np.random.seed(101)\n",
    "\n",
    "print('observation space:', env.observation_space)\n",
    "print('action space:', env.action_space)\n",
    "print('  - low:', env.action_space.low)\n",
    "print('  - high:', env.action_space.high)\n",
    "\n",
    "class Agent(nn.Module):\n",
    "    def __init__(self, env, h_size=16):\n",
    "        super(Agent, self).__init__()\n",
    "        self.env = env\n",
    "        # state, hidden layer, action sizes\n",
    "        self.s_size = env.observation_space.shape[0]\n",
    "        self.h_size = h_size\n",
    "        self.a_size = env.action_space.shape[0]\n",
    "        # define layers\n",
    "        self.fc1 = nn.Linear(self.s_size, self.h_size)\n",
    "        self.fc2 = nn.Linear(self.h_size, self.a_size)\n",
    "        \n",
    "    def set_weights(self, weights):\n",
    "        s_size = self.s_size\n",
    "        h_size = self.h_size\n",
    "        a_size = self.a_size\n",
    "        # separate the weights for each layer\n",
    "        fc1_end = (s_size*h_size)+h_size\n",
    "        fc1_W = torch.from_numpy(weights[:s_size*h_size].reshape(s_size, h_size))\n",
    "        fc1_b = torch.from_numpy(weights[s_size*h_size:fc1_end])\n",
    "        fc2_W = torch.from_numpy(weights[fc1_end:fc1_end+(h_size*a_size)].reshape(h_size, a_size))\n",
    "        fc2_b = torch.from_numpy(weights[fc1_end+(h_size*a_size):])\n",
    "        # set the weights for each layer\n",
    "        self.fc1.weight.data.copy_(fc1_W.view_as(self.fc1.weight.data))\n",
    "        self.fc1.bias.data.copy_(fc1_b.view_as(self.fc1.bias.data))\n",
    "        self.fc2.weight.data.copy_(fc2_W.view_as(self.fc2.weight.data))\n",
    "        self.fc2.bias.data.copy_(fc2_b.view_as(self.fc2.bias.data))\n",
    "    \n",
    "    def get_weights_dim(self):\n",
    "        return (self.s_size+1)*self.h_size + (self.h_size+1)*self.a_size\n",
    "        \n",
    "    def forward(self, x):\n",
    "        x = F.relu(self.fc1(x))\n",
    "        x = F.tanh(self.fc2(x))\n",
    "        return x.cpu().data\n",
    "        \n",
    "    def evaluate(self, weights, gamma=1.0, max_t=5000):\n",
    "        self.set_weights(weights)\n",
    "        episode_return = 0.0\n",
    "        state = self.env.reset()\n",
    "        for t in range(max_t):\n",
    "            state = torch.from_numpy(state).float().to(device)\n",
    "            action = self.forward(state)\n",
    "            state, reward, done, _ = self.env.step(action)\n",
    "            episode_return += reward * math.pow(gamma, t)\n",
    "            if done:\n",
    "                break\n",
    "        return episode_return\n",
    "    \n",
    "agent = Agent(env).to(device)\n",
    "print(\"weight dim.:\",agent.get_weights_dim())"
   ]
  },
  {
   "cell_type": "markdown",
   "id": "developed-response",
   "metadata": {},
   "source": [
    "### 3. Train the Agent with the Cross-Entropy Method"
   ]
  },
  {
   "cell_type": "code",
   "execution_count": 5,
   "id": "creative-medline",
   "metadata": {
    "scrolled": true
   },
   "outputs": [
    {
     "name": "stdout",
     "output_type": "stream",
     "text": [
      "Episode 10\tAverage Score: -74.57\n",
      "Episode 20\tAverage Score: -74.34\n",
      "Episode 30\tAverage Score: -74.11\n",
      "Episode 40\tAverage Score: -73.91\n",
      "Episode 50\tAverage Score: -73.64\n",
      "Episode 60\tAverage Score: -73.10\n",
      "Episode 70\tAverage Score: -72.58\n",
      "Episode 80\tAverage Score: -71.94\n",
      "Episode 90\tAverage Score: -71.28\n",
      "Episode 100\tAverage Score: -70.66\n",
      "Episode 110\tAverage Score: -70.05\n",
      "Episode 120\tAverage Score: -69.41\n",
      "Episode 130\tAverage Score: -68.87\n",
      "Episode 140\tAverage Score: -68.31\n",
      "Episode 150\tAverage Score: -67.70\n",
      "Episode 160\tAverage Score: -67.10\n",
      "Episode 170\tAverage Score: -66.43\n",
      "Episode 180\tAverage Score: -65.72\n",
      "Episode 190\tAverage Score: -65.02\n",
      "Episode 200\tAverage Score: -64.35\n",
      "Episode 210\tAverage Score: -63.71\n",
      "Episode 220\tAverage Score: -63.05\n",
      "Episode 230\tAverage Score: -62.36\n",
      "Episode 240\tAverage Score: -61.69\n",
      "Episode 250\tAverage Score: -60.99\n",
      "Episode 260\tAverage Score: -60.28\n",
      "Episode 270\tAverage Score: -59.59\n",
      "Episode 280\tAverage Score: -58.94\n",
      "Episode 290\tAverage Score: -58.27\n",
      "Episode 300\tAverage Score: -57.57\n",
      "Episode 310\tAverage Score: -56.87\n",
      "Episode 320\tAverage Score: -56.16\n",
      "Episode 330\tAverage Score: -55.45\n",
      "Episode 340\tAverage Score: -54.74\n",
      "Episode 350\tAverage Score: -54.02\n",
      "Episode 360\tAverage Score: -53.30\n",
      "Episode 370\tAverage Score: -52.60\n",
      "Episode 380\tAverage Score: -51.91\n",
      "Episode 390\tAverage Score: -51.18\n",
      "Episode 400\tAverage Score: -50.46\n",
      "Episode 410\tAverage Score: -49.75\n",
      "Episode 420\tAverage Score: -49.03\n",
      "Episode 430\tAverage Score: -48.32\n",
      "Episode 440\tAverage Score: -47.64\n",
      "Episode 450\tAverage Score: -46.96\n",
      "Episode 460\tAverage Score: -46.25\n",
      "Episode 470\tAverage Score: -45.55\n",
      "Episode 480\tAverage Score: -44.86\n",
      "Episode 490\tAverage Score: -44.15\n",
      "Episode 500\tAverage Score: -43.46\n"
     ]
    },
    {
     "data": {
      "image/png": "[encoded data removed]",
      "text/plain": [
       "<Figure size 432x288 with 1 Axes>"
      ]
     },
     "metadata": {
      "needs_background": "light"
     },
     "output_type": "display_data"
    }
   ],
   "source": [
    "def cem(n_iterations=500, max_t=1000, gamma=1.0, print_every=10, pop_size=200, elite_frac=0.2, alpha=0.001, sigma=0.5):\n",
    "    \"\"\"PyTorch implementation of the cross-entropy method.\n",
    "        \n",
    "    Params\n",
    "    ======\n",
    "        n_iterations (int): maximum number of training iterations\n",
    "        max_t (int): maximum number of timesteps per episode\n",
    "        gamma (float): discount rate\n",
    "        print_every (int): how often to print average score (over last 100 episodes)\n",
    "        pop_size (int): size of population at each iteration\n",
    "        alpha (float): percentage of top performers to use in update\n",
    "        sigma (float): standard deviation of additive noise\n",
    "    \"\"\"\n",
    "    #n_elite=int(pop_size*elite_frac)\n",
    "    #npop = 500 # population size\n",
    "    #sigma = 0.1 # noise standard deviation\n",
    "    #alpha = 0.001 # learning rate\n",
    "    \n",
    "    n_elite=int(pop_size*elite_frac)\n",
    "    \n",
    "    scores_deque = deque(maxlen=100)\n",
    "    scores = []\n",
    "    best_weight = sigma*np.random.randn(agent.get_weights_dim())\n",
    "    #w = np.random.randn(agent.get_weights_dim())\n",
    "    \n",
    "    for i_iteration in range(1, n_iterations+1):\n",
    "        \n",
    "        #######################################################\n",
    "\n",
    "#         N = np.random.randn(npop, agent.get_weights_dim())\n",
    "#         R = np.zeros(npop)\n",
    "        \n",
    "#         for j in range(npop):\n",
    "#             w_try = w + sigma*N[j] # jitter w using gaussian of sigma 0.1\n",
    "#             R[j] = agent.evaluate(w_try, gamma, max_t) # evaluate the jittered version\n",
    "\n",
    "#         # standardize the rewards to have a gaussian distribution\n",
    "#         A = (R - np.mean(R)) / np.std(R)\n",
    "#         # perform the parameter update. The matrix multiply below\n",
    "#         # is just an efficient way to sum up all the rows of the noise matrix N,\n",
    "#         # where each row N[j] is weighted by A[j]\n",
    "#         w = w + alpha/(npop*sigma) * np.dot(N.T, A)\n",
    "\n",
    "#         reward = agent.evaluate(w, gamma=1.0)\n",
    "        \n",
    "        #######################################################\n",
    "        \n",
    "        weights_pop = np.array([best_weight + (sigma*np.random.randn(agent.get_weights_dim())) for i in range(pop_size)])\n",
    "        rewards = np.array([agent.evaluate(weights, gamma, max_t) for weights in weights_pop])\n",
    "\n",
    "        #elite_idxs = rewards.argsort()[-n_elite:]\n",
    "        #elite_weights = [weights_pop[i] for i in elite_idxs]\n",
    "        #best_weight = np.array(elite_weights).mean(axis=0)\n",
    "        \n",
    "        advantage = (rewards- np.mean(rewards)) / np.std(rewards)\n",
    "        best_weight = best_weight + alpha/(pop_size*sigma) * np.dot(weights_pop.T, advantage)\n",
    "        \n",
    "        reward = agent.evaluate(best_weight, gamma=1.0)\n",
    "        scores_deque.append(reward)\n",
    "        scores.append(reward)\n",
    "        \n",
    "        ################\n",
    "        \n",
    "        scores_deque.append(reward)\n",
    "        scores.append(reward)\n",
    "        \n",
    "        torch.save(agent.state_dict(), 'checkpoint.pth')\n",
    "        \n",
    "        if i_iteration % print_every == 0:\n",
    "            print('Episode {}\\tAverage Score: {:.2f}'.format(i_iteration, np.mean(scores_deque)))\n",
    "\n",
    "        if np.mean(scores_deque)>=90.0:\n",
    "            print('\\nEnvironment solved in {:d} iterations!\\tAverage Score: {:.2f}'.format(i_iteration-100, np.mean(scores_deque)))\n",
    "            break\n",
    "    return scores\n",
    "\n",
    "scores = cem()\n",
    "\n",
    "# plot the scores\n",
    "fig = plt.figure()\n",
    "ax = fig.add_subplot(111)\n",
    "plt.plot(np.arange(1, len(scores)+1), scores)\n",
    "plt.ylabel('Score')\n",
    "plt.xlabel('Episode #')\n",
    "plt.show()"
   ]
  },
  {
   "cell_type": "code",
   "execution_count": null,
   "id": "chicken-panama",
   "metadata": {},
   "outputs": [],
   "source": [
    "# load the weights from file\n",
    "agent.load_state_dict(torch.load('checkpoint.pth'))\n",
    "\n",
    "state = env.reset()\n",
    "while True:\n",
    "    state = torch.from_numpy(state).float().to(device)\n",
    "    with torch.no_grad():\n",
    "        action = agent(state)\n",
    "    env.render()\n",
    "    next_state, reward, done, _ = env.step(action)\n",
    "    state = next_state\n",
    "    if done:\n",
    "        break\n",
    "\n",
    "env.close()"
   ]
  },
  {
   "cell_type": "code",
   "execution_count": null,
   "id": "advance-rings",
   "metadata": {},
   "outputs": [],
   "source": [
    "env.close()"
   ]
  },
  {
   "cell_type": "markdown",
   "id": "nominated-failure",
   "metadata": {},
   "source": [
    "https://rfriend.tistory.com/549\n"
   ]
  },
  {
   "cell_type": "code",
   "execution_count": null,
   "id": "public-nutrition",
   "metadata": {},
   "outputs": [],
   "source": [
    "import numpy as np\n",
    "arr = np.array([1,3,5,4])\n",
    "arr.argsort()"
   ]
  },
  {
   "cell_type": "code",
   "execution_count": null,
   "id": "chronic-lithuania",
   "metadata": {},
   "outputs": [],
   "source": [
    "arr = np.array([[1,3,5,4],\n",
    "                [1,1,1,1]])\n",
    "arr.mean(axis=0)"
   ]
  },
  {
   "cell_type": "code",
   "execution_count": null,
   "id": "hungry-density",
   "metadata": {},
   "outputs": [],
   "source": [
    "arr = np.array([1,3,5,4])\n",
    "arr[:, None]"
   ]
  },
  {
   "cell_type": "code",
   "execution_count": null,
   "id": "female-detroit",
   "metadata": {},
   "outputs": [],
   "source": [
    "arr = np.array([[1,3,5,4],\n",
    "                [1,1,1,1]])\n",
    "brr = np.array([1,2])\n",
    "brr = brr[:, None]\n",
    "crr = arr*brr\n",
    "print(crr)\n",
    "crr.sum(axis=0)"
   ]
  },
  {
   "cell_type": "code",
   "execution_count": null,
   "id": "expressed-amount",
   "metadata": {},
   "outputs": [],
   "source": []
  }
 ],
 "metadata": {
  "kernelspec": {
   "display_name": "Python 3",
   "language": "python",
   "name": "python3"
  },
  "language_info": {
   "codemirror_mode": {
    "name": "ipython",
    "version": 3
   },
   "file_extension": ".py",
   "mimetype": "text/x-python",
   "name": "python",
   "nbconvert_exporter": "python",
   "pygments_lexer": "ipython3",
   "version": "3.6.12"
  }
 },
 "nbformat": 4,
 "nbformat_minor": 5
}
